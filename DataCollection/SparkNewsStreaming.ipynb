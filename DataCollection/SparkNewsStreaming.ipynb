{
 "cells": [
  {
   "cell_type": "code",
   "execution_count": null,
   "metadata": {},
   "outputs": [],
   "source": [
    "import findspark\n",
    "findspark.init()\n",
    "\n",
    "from pyspark import SparkConf,SparkContext\n",
    "from pyspark.sql import SparkSession\n",
    "from pyspark.streaming import StreamingContext\n",
    "from pyspark.sql import Row,SQLContext\n",
    "from pyspark.sql.functions import arrays_zip, col,explode\n",
    "import sys\n",
    "import requests"
   ]
  },
  {
   "cell_type": "code",
   "execution_count": null,
   "metadata": {},
   "outputs": [],
   "source": [
    "def getSparkSessionInstance(sparkConf):\n",
    "    if ('sparkSessionSingletonInstance' not in globals()):\n",
    "        globals()['sparkSessionSingletonInstance'] = SparkSession\\\n",
    "            .builder\\\n",
    "            .config(conf=sparkConf)\\\n",
    "            .getOrCreate()\n",
    "    return globals()['sparkSessionSingletonInstance']\n",
    "\n",
    "config = SparkConf().set('spark.driver.host','127.0.0.1').setAppName(\"NewsStreamingApp\").setMaster(\"local[2]\")\n",
    "sc = SparkContext.getOrCreate(config)\n",
    "# create the Streaming Context from the above spark context with window size 2 seconds\n",
    "ssc = StreamingContext(sc, 2)\n",
    "# read data from port 5000\n",
    "dataStream = ssc.socketTextStream(\"127.0.0.1\",5000)"
   ]
  },
  {
   "cell_type": "code",
   "execution_count": null,
   "metadata": {},
   "outputs": [],
   "source": [
    "def readMyStream(rdd):\n",
    "    spark = getSparkSessionInstance(rdd.context.getConf())\n",
    "    if not rdd.isEmpty():\n",
    "        liveData = spark.read.json(rdd)\n",
    "        liveData.show()\n",
    "        with open('livedata.csv', 'a+', encoding=\"utf-8-sig\", newline='') as file:\n",
    "            liveData.toPandas().to_csv(file, header=False,index=False)\n",
    "\n",
    "dataStream.foreachRDD( lambda rdd: readMyStream(rdd) )\n",
    "\n",
    "words = dataStream.flatMap(lambda line: line.split(\" \"))\n",
    "words.pprint()\n",
    "\n",
    "ssc.start()\n",
    "# wait for the streaming to finish\n",
    "ssc.awaitTermination()"
   ]
  },
  {
   "cell_type": "code",
   "execution_count": null,
   "metadata": {},
   "outputs": [],
   "source": [
    "sc.stop()"
   ]
  }
 ],
 "metadata": {
  "kernelspec": {
   "display_name": "Python 3",
   "language": "python",
   "name": "python3"
  },
  "language_info": {
   "codemirror_mode": {
    "name": "ipython",
    "version": 3
   },
   "file_extension": ".py",
   "mimetype": "text/x-python",
   "name": "python",
   "nbconvert_exporter": "python",
   "pygments_lexer": "ipython3",
   "version": "3.7.3"
  }
 },
 "nbformat": 4,
 "nbformat_minor": 2
}
