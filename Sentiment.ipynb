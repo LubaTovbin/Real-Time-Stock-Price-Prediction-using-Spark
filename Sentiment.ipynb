{
 "cells": [
  {
   "cell_type": "code",
   "execution_count": 1,
   "metadata": {},
   "outputs": [],
   "source": [
    "# encoding: utf-8\n",
    "import re\n",
    "from textblob import TextBlob\n",
    "\n",
    "import findspark\n",
    "findspark.init()\n",
    "from pyspark import SparkContext, SparkConf\n",
    "from pyspark.sql import SparkSession, SQLContext\n",
    "from pyspark.sql import Row\n",
    "\n",
    "def AppendSentiment(row):\n",
    "    #Convert row to dict and extract news\n",
    "    row_dict = row.asDict()\n",
    "    news = row_dict[\"News\"]\n",
    "    subj = None\n",
    "    pol = None\n",
    "    #Get polarity and subjectivity if news is not None\n",
    "    if news != None:\n",
    "        sent = GetSentiment(news)\n",
    "        subj = sent.subjectivity\n",
    "        pol = sent.polarity\n",
    "    #Rows are immutable, so we create a new row with the new column data\n",
    "    return Row(URL=row.URL, News=row.News, Type=row.Type, Data=row.Data, Subjectivity=subj, Polarity=pol)\n",
    "\n",
    "def GetSentiment(text):\n",
    "    #Use regex to clean news string\n",
    "    clean = CleanText(text)\n",
    "    sent = TextBlob(clean)\n",
    "    return sent.sentiment\n",
    "\n",
    "def CleanText(text):\n",
    "    text = ' '.join(re.sub(\"(@[A-Za-z0-9]+)|([^0-9A-Za-z \\t]) |(\\w+:\\/\\/\\S+)\", \" \", text).split()) \n",
    "    text = text.replace('\\u2019', \"'\")\n",
    "    return text\n"
   ]
  },
  {
   "cell_type": "code",
   "execution_count": 2,
   "metadata": {},
   "outputs": [],
   "source": [
    "#Create spark session and SQLContext\n",
    "conf = SparkConf().setMaster(\"local\").setAppName(\"Sentiment Analysis\")\n",
    "sc = SparkContext(conf = conf)\n",
    "sqc = SQLContext(sc)\n",
    "spark = SparkSession(sc)"
   ]
  },
  {
   "cell_type": "code",
   "execution_count": 3,
   "metadata": {},
   "outputs": [],
   "source": [
    "#Load archived data CSV\n",
    "archive = sqc.read.format('com.databricks.spark.csv').options(header='true', inferschema='true', quote='\\\"', escape='\\\"', delimiter=',', multiLine='true').load(\"DataCollection\\\\archivednews.csv\")"
   ]
  },
  {
   "cell_type": "code",
   "execution_count": 4,
   "metadata": {},
   "outputs": [],
   "source": [
    "#Map sentiment to new columns\n",
    "new_arch = archive.rdd.map(AppendSentiment).toDF()\n",
    "#Rearrange columns to be the same as source\n",
    "new_arch = new_arch.select(\"URL\", \"News\",\"Type\",\"Data\",\"Polarity\",\"Subjectivity\")"
   ]
  },
  {
   "cell_type": "code",
   "execution_count": 5,
   "metadata": {},
   "outputs": [
    {
     "name": "stdout",
     "output_type": "stream",
     "text": [
      "Done\n"
     ]
    }
   ],
   "source": [
    "#Write new dataframe to CSV\n",
    "new_arch.repartition(1).write.format(\"com.databricks.spark.csv\").mode('overwrite').options(header='true', inferschema='true', quote='\\\"', escape='\\\"', delimiter=',', multiLine='true').save(\"archivednews.csv\")\n",
    "\n",
    "print(\"Done\")"
   ]
  },
  {
   "cell_type": "code",
   "execution_count": null,
   "metadata": {},
   "outputs": [],
   "source": []
  }
 ],
 "metadata": {
  "kernelspec": {
   "display_name": "Python 3",
   "language": "python",
   "name": "python3"
  },
  "language_info": {
   "codemirror_mode": {
    "name": "ipython",
    "version": 3
   },
   "file_extension": ".py",
   "mimetype": "text/x-python",
   "name": "python",
   "nbconvert_exporter": "python",
   "pygments_lexer": "ipython3",
   "version": "3.7.0"
  }
 },
 "nbformat": 4,
 "nbformat_minor": 4
}
