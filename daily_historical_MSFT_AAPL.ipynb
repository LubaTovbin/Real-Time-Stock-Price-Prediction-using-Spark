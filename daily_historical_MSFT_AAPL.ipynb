{
 "cells": [
  {
   "cell_type": "code",
   "execution_count": 1,
   "metadata": {},
   "outputs": [],
   "source": [
    "import pandas as pd"
   ]
  },
  {
   "cell_type": "code",
   "execution_count": 16,
   "metadata": {},
   "outputs": [],
   "source": [
    "msft = pd.read_csv(r\"C:\\Users\\Luba Tovbin\\Desktop\\CMPE-256\\Project\\data\\MSFT.csv\")\n",
    "aapl = pd.read_csv(r\"C:\\Users\\Luba Tovbin\\Desktop\\CMPE-256\\Project\\data\\AAPL.csv\")"
   ]
  },
  {
   "cell_type": "code",
   "execution_count": 17,
   "metadata": {},
   "outputs": [
    {
     "name": "stdout",
     "output_type": "stream",
     "text": [
      "<class 'pandas.core.frame.DataFrame'>\n",
      "RangeIndex: 8590 entries, 0 to 8589\n",
      "Data columns (total 7 columns):\n",
      " #   Column     Non-Null Count  Dtype  \n",
      "---  ------     --------------  -----  \n",
      " 0   Date       8590 non-null   object \n",
      " 1   Open       8590 non-null   float64\n",
      " 2   High       8590 non-null   float64\n",
      " 3   Low        8590 non-null   float64\n",
      " 4   Close      8590 non-null   float64\n",
      " 5   Adj Close  8590 non-null   float64\n",
      " 6   Volume     8590 non-null   int64  \n",
      "dtypes: float64(5), int64(1), object(1)\n",
      "memory usage: 469.9+ KB\n"
     ]
    }
   ],
   "source": [
    "msft.info()"
   ]
  },
  {
   "cell_type": "code",
   "execution_count": 21,
   "metadata": {},
   "outputs": [
    {
     "name": "stdout",
     "output_type": "stream",
     "text": [
      "<class 'pandas.core.frame.DataFrame'>\n",
      "RangeIndex: 9916 entries, 0 to 9915\n",
      "Data columns (total 7 columns):\n",
      " #   Column     Non-Null Count  Dtype  \n",
      "---  ------     --------------  -----  \n",
      " 0   Date       9916 non-null   object \n",
      " 1   Open       9915 non-null   float64\n",
      " 2   High       9915 non-null   float64\n",
      " 3   Low        9915 non-null   float64\n",
      " 4   Close      9915 non-null   float64\n",
      " 5   Adj Close  9915 non-null   float64\n",
      " 6   Volume     9915 non-null   float64\n",
      "dtypes: float64(6), object(1)\n",
      "memory usage: 542.4+ KB\n"
     ]
    }
   ],
   "source": [
    "aapl.info()"
   ]
  },
  {
   "cell_type": "code",
   "execution_count": 18,
   "metadata": {},
   "outputs": [
    {
     "data": {
      "text/html": [
       "<div>\n",
       "<style scoped>\n",
       "    .dataframe tbody tr th:only-of-type {\n",
       "        vertical-align: middle;\n",
       "    }\n",
       "\n",
       "    .dataframe tbody tr th {\n",
       "        vertical-align: top;\n",
       "    }\n",
       "\n",
       "    .dataframe thead th {\n",
       "        text-align: right;\n",
       "    }\n",
       "</style>\n",
       "<table border=\"1\" class=\"dataframe\">\n",
       "  <thead>\n",
       "    <tr style=\"text-align: right;\">\n",
       "      <th></th>\n",
       "      <th>Date</th>\n",
       "      <th>Open</th>\n",
       "      <th>High</th>\n",
       "      <th>Low</th>\n",
       "      <th>Close</th>\n",
       "      <th>Adj Close</th>\n",
       "      <th>Volume</th>\n",
       "    </tr>\n",
       "  </thead>\n",
       "  <tbody>\n",
       "    <tr>\n",
       "      <th>0</th>\n",
       "      <td>1986-03-13</td>\n",
       "      <td>0.088542</td>\n",
       "      <td>0.101563</td>\n",
       "      <td>0.088542</td>\n",
       "      <td>0.097222</td>\n",
       "      <td>0.062378</td>\n",
       "      <td>1031788800</td>\n",
       "    </tr>\n",
       "    <tr>\n",
       "      <th>1</th>\n",
       "      <td>1986-03-14</td>\n",
       "      <td>0.097222</td>\n",
       "      <td>0.102431</td>\n",
       "      <td>0.097222</td>\n",
       "      <td>0.100694</td>\n",
       "      <td>0.064606</td>\n",
       "      <td>308160000</td>\n",
       "    </tr>\n",
       "    <tr>\n",
       "      <th>2</th>\n",
       "      <td>1986-03-17</td>\n",
       "      <td>0.100694</td>\n",
       "      <td>0.103299</td>\n",
       "      <td>0.100694</td>\n",
       "      <td>0.102431</td>\n",
       "      <td>0.065720</td>\n",
       "      <td>133171200</td>\n",
       "    </tr>\n",
       "    <tr>\n",
       "      <th>3</th>\n",
       "      <td>1986-03-18</td>\n",
       "      <td>0.102431</td>\n",
       "      <td>0.103299</td>\n",
       "      <td>0.098958</td>\n",
       "      <td>0.099826</td>\n",
       "      <td>0.064049</td>\n",
       "      <td>67766400</td>\n",
       "    </tr>\n",
       "    <tr>\n",
       "      <th>4</th>\n",
       "      <td>1986-03-19</td>\n",
       "      <td>0.099826</td>\n",
       "      <td>0.100694</td>\n",
       "      <td>0.097222</td>\n",
       "      <td>0.098090</td>\n",
       "      <td>0.062935</td>\n",
       "      <td>47894400</td>\n",
       "    </tr>\n",
       "  </tbody>\n",
       "</table>\n",
       "</div>"
      ],
      "text/plain": [
       "         Date      Open      High       Low     Close  Adj Close      Volume\n",
       "0  1986-03-13  0.088542  0.101563  0.088542  0.097222   0.062378  1031788800\n",
       "1  1986-03-14  0.097222  0.102431  0.097222  0.100694   0.064606   308160000\n",
       "2  1986-03-17  0.100694  0.103299  0.100694  0.102431   0.065720   133171200\n",
       "3  1986-03-18  0.102431  0.103299  0.098958  0.099826   0.064049    67766400\n",
       "4  1986-03-19  0.099826  0.100694  0.097222  0.098090   0.062935    47894400"
      ]
     },
     "execution_count": 18,
     "metadata": {},
     "output_type": "execute_result"
    }
   ],
   "source": [
    "msft.head()"
   ]
  },
  {
   "cell_type": "code",
   "execution_count": 19,
   "metadata": {},
   "outputs": [
    {
     "data": {
      "text/html": [
       "<div>\n",
       "<style scoped>\n",
       "    .dataframe tbody tr th:only-of-type {\n",
       "        vertical-align: middle;\n",
       "    }\n",
       "\n",
       "    .dataframe tbody tr th {\n",
       "        vertical-align: top;\n",
       "    }\n",
       "\n",
       "    .dataframe thead th {\n",
       "        text-align: right;\n",
       "    }\n",
       "</style>\n",
       "<table border=\"1\" class=\"dataframe\">\n",
       "  <thead>\n",
       "    <tr style=\"text-align: right;\">\n",
       "      <th></th>\n",
       "      <th>Date</th>\n",
       "      <th>Open</th>\n",
       "      <th>High</th>\n",
       "      <th>Low</th>\n",
       "      <th>Close</th>\n",
       "      <th>Adj Close</th>\n",
       "      <th>Volume</th>\n",
       "    </tr>\n",
       "  </thead>\n",
       "  <tbody>\n",
       "    <tr>\n",
       "      <th>8585</th>\n",
       "      <td>2020-04-03</td>\n",
       "      <td>155.100006</td>\n",
       "      <td>157.380005</td>\n",
       "      <td>152.190002</td>\n",
       "      <td>153.830002</td>\n",
       "      <td>153.830002</td>\n",
       "      <td>41243300</td>\n",
       "    </tr>\n",
       "    <tr>\n",
       "      <th>8586</th>\n",
       "      <td>2020-04-06</td>\n",
       "      <td>160.320007</td>\n",
       "      <td>166.500000</td>\n",
       "      <td>157.580002</td>\n",
       "      <td>165.270004</td>\n",
       "      <td>165.270004</td>\n",
       "      <td>67111700</td>\n",
       "    </tr>\n",
       "    <tr>\n",
       "      <th>8587</th>\n",
       "      <td>2020-04-07</td>\n",
       "      <td>169.589996</td>\n",
       "      <td>170.000000</td>\n",
       "      <td>163.259995</td>\n",
       "      <td>163.490005</td>\n",
       "      <td>163.490005</td>\n",
       "      <td>62769000</td>\n",
       "    </tr>\n",
       "    <tr>\n",
       "      <th>8588</th>\n",
       "      <td>2020-04-08</td>\n",
       "      <td>165.669998</td>\n",
       "      <td>166.669998</td>\n",
       "      <td>163.500000</td>\n",
       "      <td>165.130005</td>\n",
       "      <td>165.130005</td>\n",
       "      <td>48318200</td>\n",
       "    </tr>\n",
       "    <tr>\n",
       "      <th>8589</th>\n",
       "      <td>2020-04-09</td>\n",
       "      <td>166.360001</td>\n",
       "      <td>167.369995</td>\n",
       "      <td>163.330002</td>\n",
       "      <td>165.139999</td>\n",
       "      <td>165.139999</td>\n",
       "      <td>51431800</td>\n",
       "    </tr>\n",
       "  </tbody>\n",
       "</table>\n",
       "</div>"
      ],
      "text/plain": [
       "            Date        Open        High         Low       Close   Adj Close  \\\n",
       "8585  2020-04-03  155.100006  157.380005  152.190002  153.830002  153.830002   \n",
       "8586  2020-04-06  160.320007  166.500000  157.580002  165.270004  165.270004   \n",
       "8587  2020-04-07  169.589996  170.000000  163.259995  163.490005  163.490005   \n",
       "8588  2020-04-08  165.669998  166.669998  163.500000  165.130005  165.130005   \n",
       "8589  2020-04-09  166.360001  167.369995  163.330002  165.139999  165.139999   \n",
       "\n",
       "        Volume  \n",
       "8585  41243300  \n",
       "8586  67111700  \n",
       "8587  62769000  \n",
       "8588  48318200  \n",
       "8589  51431800  "
      ]
     },
     "execution_count": 19,
     "metadata": {},
     "output_type": "execute_result"
    }
   ],
   "source": [
    "msft.tail()"
   ]
  },
  {
   "cell_type": "code",
   "execution_count": 23,
   "metadata": {},
   "outputs": [
    {
     "data": {
      "text/html": [
       "<div>\n",
       "<style scoped>\n",
       "    .dataframe tbody tr th:only-of-type {\n",
       "        vertical-align: middle;\n",
       "    }\n",
       "\n",
       "    .dataframe tbody tr th {\n",
       "        vertical-align: top;\n",
       "    }\n",
       "\n",
       "    .dataframe thead th {\n",
       "        text-align: right;\n",
       "    }\n",
       "</style>\n",
       "<table border=\"1\" class=\"dataframe\">\n",
       "  <thead>\n",
       "    <tr style=\"text-align: right;\">\n",
       "      <th></th>\n",
       "      <th>Date</th>\n",
       "      <th>Open</th>\n",
       "      <th>High</th>\n",
       "      <th>Low</th>\n",
       "      <th>Close</th>\n",
       "      <th>Adj Close</th>\n",
       "      <th>Volume</th>\n",
       "    </tr>\n",
       "  </thead>\n",
       "  <tbody>\n",
       "    <tr>\n",
       "      <th>0</th>\n",
       "      <td>1980-12-12</td>\n",
       "      <td>0.513393</td>\n",
       "      <td>0.515625</td>\n",
       "      <td>0.513393</td>\n",
       "      <td>0.513393</td>\n",
       "      <td>0.406782</td>\n",
       "      <td>117258400.0</td>\n",
       "    </tr>\n",
       "    <tr>\n",
       "      <th>1</th>\n",
       "      <td>1980-12-15</td>\n",
       "      <td>0.488839</td>\n",
       "      <td>0.488839</td>\n",
       "      <td>0.486607</td>\n",
       "      <td>0.486607</td>\n",
       "      <td>0.385558</td>\n",
       "      <td>43971200.0</td>\n",
       "    </tr>\n",
       "    <tr>\n",
       "      <th>2</th>\n",
       "      <td>1980-12-16</td>\n",
       "      <td>0.453125</td>\n",
       "      <td>0.453125</td>\n",
       "      <td>0.450893</td>\n",
       "      <td>0.450893</td>\n",
       "      <td>0.357260</td>\n",
       "      <td>26432000.0</td>\n",
       "    </tr>\n",
       "    <tr>\n",
       "      <th>3</th>\n",
       "      <td>1980-12-17</td>\n",
       "      <td>0.462054</td>\n",
       "      <td>0.464286</td>\n",
       "      <td>0.462054</td>\n",
       "      <td>0.462054</td>\n",
       "      <td>0.366103</td>\n",
       "      <td>21610400.0</td>\n",
       "    </tr>\n",
       "    <tr>\n",
       "      <th>4</th>\n",
       "      <td>1980-12-18</td>\n",
       "      <td>0.475446</td>\n",
       "      <td>0.477679</td>\n",
       "      <td>0.475446</td>\n",
       "      <td>0.475446</td>\n",
       "      <td>0.376715</td>\n",
       "      <td>18362400.0</td>\n",
       "    </tr>\n",
       "  </tbody>\n",
       "</table>\n",
       "</div>"
      ],
      "text/plain": [
       "         Date      Open      High       Low     Close  Adj Close       Volume\n",
       "0  1980-12-12  0.513393  0.515625  0.513393  0.513393   0.406782  117258400.0\n",
       "1  1980-12-15  0.488839  0.488839  0.486607  0.486607   0.385558   43971200.0\n",
       "2  1980-12-16  0.453125  0.453125  0.450893  0.450893   0.357260   26432000.0\n",
       "3  1980-12-17  0.462054  0.464286  0.462054  0.462054   0.366103   21610400.0\n",
       "4  1980-12-18  0.475446  0.477679  0.475446  0.475446   0.376715   18362400.0"
      ]
     },
     "execution_count": 23,
     "metadata": {},
     "output_type": "execute_result"
    }
   ],
   "source": [
    "aapl.head()"
   ]
  },
  {
   "cell_type": "code",
   "execution_count": 24,
   "metadata": {},
   "outputs": [
    {
     "data": {
      "text/html": [
       "<div>\n",
       "<style scoped>\n",
       "    .dataframe tbody tr th:only-of-type {\n",
       "        vertical-align: middle;\n",
       "    }\n",
       "\n",
       "    .dataframe tbody tr th {\n",
       "        vertical-align: top;\n",
       "    }\n",
       "\n",
       "    .dataframe thead th {\n",
       "        text-align: right;\n",
       "    }\n",
       "</style>\n",
       "<table border=\"1\" class=\"dataframe\">\n",
       "  <thead>\n",
       "    <tr style=\"text-align: right;\">\n",
       "      <th></th>\n",
       "      <th>Date</th>\n",
       "      <th>Open</th>\n",
       "      <th>High</th>\n",
       "      <th>Low</th>\n",
       "      <th>Close</th>\n",
       "      <th>Adj Close</th>\n",
       "      <th>Volume</th>\n",
       "    </tr>\n",
       "  </thead>\n",
       "  <tbody>\n",
       "    <tr>\n",
       "      <th>9911</th>\n",
       "      <td>2020-04-03</td>\n",
       "      <td>242.800003</td>\n",
       "      <td>245.699997</td>\n",
       "      <td>238.970001</td>\n",
       "      <td>241.410004</td>\n",
       "      <td>241.410004</td>\n",
       "      <td>32470000.0</td>\n",
       "    </tr>\n",
       "    <tr>\n",
       "      <th>9912</th>\n",
       "      <td>2020-04-06</td>\n",
       "      <td>250.899994</td>\n",
       "      <td>263.109985</td>\n",
       "      <td>249.380005</td>\n",
       "      <td>262.470001</td>\n",
       "      <td>262.470001</td>\n",
       "      <td>50455100.0</td>\n",
       "    </tr>\n",
       "    <tr>\n",
       "      <th>9913</th>\n",
       "      <td>2020-04-07</td>\n",
       "      <td>270.799988</td>\n",
       "      <td>271.700012</td>\n",
       "      <td>259.000000</td>\n",
       "      <td>259.429993</td>\n",
       "      <td>259.429993</td>\n",
       "      <td>50721800.0</td>\n",
       "    </tr>\n",
       "    <tr>\n",
       "      <th>9914</th>\n",
       "      <td>2020-04-08</td>\n",
       "      <td>262.739990</td>\n",
       "      <td>267.369995</td>\n",
       "      <td>261.230011</td>\n",
       "      <td>266.070007</td>\n",
       "      <td>266.070007</td>\n",
       "      <td>42223800.0</td>\n",
       "    </tr>\n",
       "    <tr>\n",
       "      <th>9915</th>\n",
       "      <td>2020-04-09</td>\n",
       "      <td>268.700012</td>\n",
       "      <td>270.070007</td>\n",
       "      <td>264.700012</td>\n",
       "      <td>267.989990</td>\n",
       "      <td>267.989990</td>\n",
       "      <td>40529100.0</td>\n",
       "    </tr>\n",
       "  </tbody>\n",
       "</table>\n",
       "</div>"
      ],
      "text/plain": [
       "            Date        Open        High         Low       Close   Adj Close  \\\n",
       "9911  2020-04-03  242.800003  245.699997  238.970001  241.410004  241.410004   \n",
       "9912  2020-04-06  250.899994  263.109985  249.380005  262.470001  262.470001   \n",
       "9913  2020-04-07  270.799988  271.700012  259.000000  259.429993  259.429993   \n",
       "9914  2020-04-08  262.739990  267.369995  261.230011  266.070007  266.070007   \n",
       "9915  2020-04-09  268.700012  270.070007  264.700012  267.989990  267.989990   \n",
       "\n",
       "          Volume  \n",
       "9911  32470000.0  \n",
       "9912  50455100.0  \n",
       "9913  50721800.0  \n",
       "9914  42223800.0  \n",
       "9915  40529100.0  "
      ]
     },
     "execution_count": 24,
     "metadata": {},
     "output_type": "execute_result"
    }
   ],
   "source": [
    "aapl.tail()"
   ]
  },
  {
   "cell_type": "code",
   "execution_count": 25,
   "metadata": {},
   "outputs": [],
   "source": [
    "import matplotlib.pyplot as pl\n",
    "%matplotlib inline\n",
    "import seaborn as sns"
   ]
  },
  {
   "cell_type": "code",
   "execution_count": 47,
   "metadata": {},
   "outputs": [
    {
     "data": {
      "text/plain": [
       "Text(0.5,1,'Apple')"
      ]
     },
     "execution_count": 47,
     "metadata": {},
     "output_type": "execute_result"
    },
    {
     "data": {
      "image/png": "[encoded data removed]",
      "text/plain": [
       "<Figure size 1440x720 with 2 Axes>"
      ]
     },
     "metadata": {
      "needs_background": "light"
     },
     "output_type": "display_data"
    }
   ],
   "source": [
    "indx_msft = [i for i in range(len(msft))]\n",
    "indx_aapl = [i for i in range(len(aapl))]\n",
    "\n",
    "fig,ax = plt.subplots(1,2, figsize=(20, 10))                    \n",
    "ax[0].plot(indx_msft, msft['Close'])\n",
    "ax[1].plot(indx_aapl, aapl['Close'])\n",
    "\n",
    "ax[0].set_title('Microsoft')\n",
    "ax[1].set_title('Apple')"
   ]
  },
  {
   "cell_type": "code",
   "execution_count": null,
   "metadata": {},
   "outputs": [],
   "source": []
  }
 ],
 "metadata": {
  "kernelspec": {
   "display_name": "Python 3",
   "language": "python",
   "name": "python3"
  },
  "language_info": {
   "codemirror_mode": {
    "name": "ipython",
    "version": 3
   },
   "file_extension": ".py",
   "mimetype": "text/x-python",
   "name": "python",
   "nbconvert_exporter": "python",
   "pygments_lexer": "ipython3",
   "version": "3.7.1"
  }
 },
 "nbformat": 4,
 "nbformat_minor": 4
}
