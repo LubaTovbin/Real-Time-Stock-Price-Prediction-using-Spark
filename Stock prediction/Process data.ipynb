{
 "cells": [
  {
   "cell_type": "markdown",
   "metadata": {},
   "source": [
    "# process sentiments scores file"
   ]
  },
  {
   "cell_type": "code",
   "execution_count": 282,
   "metadata": {},
   "outputs": [
    {
     "name": "stdout",
     "output_type": "stream",
     "text": [
      "<class 'pandas.core.frame.DataFrame'>\n",
      "RangeIndex: 22446 entries, 0 to 22445\n",
      "Data columns (total 6 columns):\n",
      " #   Column        Non-Null Count  Dtype  \n",
      "---  ------        --------------  -----  \n",
      " 0   URL           22446 non-null  object \n",
      " 1   News          22446 non-null  object \n",
      " 2   Type          22446 non-null  object \n",
      " 3   Data          22446 non-null  object \n",
      " 4   Polarity      22446 non-null  float64\n",
      " 5   Subjectivity  22446 non-null  float64\n",
      "dtypes: float64(2), object(4)\n",
      "memory usage: 1.0+ MB\n"
     ]
    }
   ],
   "source": [
    "import pandas as pd\n",
    "df = pd.read_csv(\"archivednewssentiment.csv\")\n",
    "df.info()"
   ]
  },
  {
   "cell_type": "markdown",
   "metadata": {},
   "source": [
    "# change column name  "
   ]
  },
  {
   "cell_type": "code",
   "execution_count": 283,
   "metadata": {},
   "outputs": [
    {
     "name": "stdout",
     "output_type": "stream",
     "text": [
      "0        02-01-2016\n",
      "1        01-01-2016\n",
      "2        01-01-2016\n",
      "3        01-01-2016\n",
      "4        04-01-2016\n",
      "            ...    \n",
      "22441    30-03-2020\n",
      "22442    30-03-2020\n",
      "22443    30-03-2020\n",
      "22444    30-03-2020\n",
      "22445    30-03-2020\n",
      "Name: Date, Length: 22446, dtype: object\n"
     ]
    }
   ],
   "source": [
    "df = df.rename(columns={'Data': 'Date'})\n",
    "print(df['Date'])"
   ]
  },
  {
   "cell_type": "markdown",
   "metadata": {},
   "source": [
    "# merge multiple polarity scores in one day"
   ]
  },
  {
   "cell_type": "code",
   "execution_count": 284,
   "metadata": {},
   "outputs": [
    {
     "name": "stdout",
     "output_type": "stream",
     "text": [
      "<class 'pandas.core.frame.DataFrame'>\n",
      "MultiIndex: 3095 entries, ('apple', '01-01-2016') to ('microsoft', '31-12-2019')\n",
      "Data columns (total 1 columns):\n",
      " #   Column    Non-Null Count  Dtype  \n",
      "---  ------    --------------  -----  \n",
      " 0   Polarity  3095 non-null   float64\n",
      "dtypes: float64(1)\n",
      "memory usage: 45.5+ KB\n",
      "MultiIndex([(    'apple', '01-01-2016'),\n",
      "            (    'apple', '01-01-2017'),\n",
      "            (    'apple', '01-01-2019'),\n",
      "            (    'apple', '01-01-2020'),\n",
      "            (    'apple', '01-02-2016'),\n",
      "            (    'apple', '01-02-2017'),\n",
      "            (    'apple', '01-02-2018'),\n",
      "            (    'apple', '01-02-2019'),\n",
      "            (    'apple', '01-02-2020'),\n",
      "            (    'apple', '01-03-2016'),\n",
      "            ...\n",
      "            ('microsoft', '31-08-2018'),\n",
      "            ('microsoft', '31-08-2019'),\n",
      "            ('microsoft', '31-10-2016'),\n",
      "            ('microsoft', '31-10-2017'),\n",
      "            ('microsoft', '31-10-2018'),\n",
      "            ('microsoft', '31-10-2019'),\n",
      "            ('microsoft', '31-12-2016'),\n",
      "            ('microsoft', '31-12-2017'),\n",
      "            ('microsoft', '31-12-2018'),\n",
      "            ('microsoft', '31-12-2019')],\n",
      "           names=['Type', 'Date'], length=3095)\n"
     ]
    }
   ],
   "source": [
    "#notice : date format is day-month-year\n",
    "df = df.loc[:, ['Type', 'Date','Polarity']].groupby(['Type','Date']).mean()\n",
    "df = pd.DataFrame(df)\n",
    "df.sort_values('Date')\n",
    "df.info()\n",
    "#df.head(50)\n",
    "print(df.index)"
   ]
  },
  {
   "cell_type": "markdown",
   "metadata": {},
   "source": [
    "# Split date frame into two, match apple stock data and msft stock data"
   ]
  },
  {
   "cell_type": "code",
   "execution_count": 285,
   "metadata": {},
   "outputs": [
    {
     "name": "stdout",
     "output_type": "stream",
     "text": [
      "                  Polarity\n",
      "Type  Date                \n",
      "apple 01-01-2016  0.130946\n",
      "      01-01-2017  0.190548\n",
      "      01-01-2019  0.175678\n",
      "      01-01-2020  0.140745\n",
      "      01-02-2016  0.101898\n",
      "...                    ...\n",
      "      31-10-2019  0.052260\n",
      "      31-12-2016  0.145080\n",
      "      31-12-2017  0.112458\n",
      "      31-12-2018  0.147748\n",
      "      31-12-2019  0.128092\n",
      "\n",
      "[1549 rows x 1 columns]\n",
      "                      Polarity\n",
      "Type      Date                \n",
      "microsoft 01-01-2016  0.110542\n",
      "          01-01-2017  0.169369\n",
      "          01-01-2018  0.137534\n",
      "          01-01-2019  0.155147\n",
      "          01-01-2020  0.091251\n",
      "...                        ...\n",
      "          31-10-2019  0.104248\n",
      "          31-12-2016  0.175885\n",
      "          31-12-2017  0.263010\n",
      "          31-12-2018  0.125933\n",
      "          31-12-2019  0.095390\n",
      "\n",
      "[1546 rows x 1 columns]\n"
     ]
    }
   ],
   "source": [
    "df_aapl, df_msft = [pd.DataFrame(y) for x, y in df.groupby('Type')]\n",
    "print(df_aapl)\n",
    "print(df_msft)\n",
    "df_aapl.to_csv ('sentiment_appl.csv', header=True)\n",
    "df_msft.to_csv ('sentiment_msft.csv', header=True)"
   ]
  },
  {
   "cell_type": "markdown",
   "metadata": {},
   "source": [
    "# merge stock data with sentiment scores"
   ]
  },
  {
   "cell_type": "code",
   "execution_count": 286,
   "metadata": {},
   "outputs": [
    {
     "name": "stdout",
     "output_type": "stream",
     "text": [
      "            Date        Open        High         Low       Close   Adj Close  \\\n",
      "0     1980-12-12    0.513393    0.515625    0.513393    0.513393    0.406782   \n",
      "1     1980-12-15    0.488839    0.488839    0.486607    0.486607    0.385558   \n",
      "2     1980-12-16    0.453125    0.453125    0.450893    0.450893    0.357260   \n",
      "3     1980-12-17    0.462054    0.464286    0.462054    0.462054    0.366103   \n",
      "4     1980-12-18    0.475446    0.477679    0.475446    0.475446    0.376715   \n",
      "...          ...         ...         ...         ...         ...         ...   \n",
      "9911  2020-04-03  242.800003  245.699997  238.970001  241.410004  241.410004   \n",
      "9912  2020-04-06  250.899994  263.109985  249.380005  262.470001  262.470001   \n",
      "9913  2020-04-07  270.799988  271.700012  259.000000  259.429993  259.429993   \n",
      "9914  2020-04-08  262.739990  267.369995  261.230011  266.070007  266.070007   \n",
      "9915  2020-04-09  268.700012  270.070007  264.700012  267.989990  267.989990   \n",
      "\n",
      "           Volume  \n",
      "0     117258400.0  \n",
      "1      43971200.0  \n",
      "2      26432000.0  \n",
      "3      21610400.0  \n",
      "4      18362400.0  \n",
      "...           ...  \n",
      "9911   32470000.0  \n",
      "9912   50455100.0  \n",
      "9913   50721800.0  \n",
      "9914   42223800.0  \n",
      "9915   40529100.0  \n",
      "\n",
      "[9916 rows x 7 columns]\n"
     ]
    }
   ],
   "source": [
    "aapl = pd.read_csv(\"AAPL.csv\")\n",
    "print(aapl)"
   ]
  },
  {
   "cell_type": "markdown",
   "metadata": {},
   "source": [
    "# change date format d-m-y to y-m-d,  match stock date format"
   ]
  },
  {
   "cell_type": "code",
   "execution_count": 287,
   "metadata": {},
   "outputs": [
    {
     "name": "stdout",
     "output_type": "stream",
     "text": [
      "<class 'pandas.core.frame.DataFrame'>\n",
      "RangeIndex: 1549 entries, 0 to 1548\n",
      "Data columns (total 3 columns):\n",
      " #   Column    Non-Null Count  Dtype  \n",
      "---  ------    --------------  -----  \n",
      " 0   Type      1549 non-null   object \n",
      " 1   Date      1549 non-null   object \n",
      " 2   Polarity  1549 non-null   float64\n",
      "dtypes: float64(1), object(2)\n",
      "memory usage: 36.4+ KB\n",
      "<class 'pandas.core.frame.DataFrame'>\n",
      "RangeIndex: 1549 entries, 0 to 1548\n",
      "Data columns (total 3 columns):\n",
      " #   Column    Non-Null Count  Dtype         \n",
      "---  ------    --------------  -----         \n",
      " 0   Type      1549 non-null   object        \n",
      " 1   Date      1549 non-null   datetime64[ns]\n",
      " 2   Polarity  1549 non-null   float64       \n",
      "dtypes: datetime64[ns](1), float64(1), object(1)\n",
      "memory usage: 36.4+ KB\n"
     ]
    },
    {
     "data": {
      "text/html": [
       "<div>\n",
       "<style scoped>\n",
       "    .dataframe tbody tr th:only-of-type {\n",
       "        vertical-align: middle;\n",
       "    }\n",
       "\n",
       "    .dataframe tbody tr th {\n",
       "        vertical-align: top;\n",
       "    }\n",
       "\n",
       "    .dataframe thead th {\n",
       "        text-align: right;\n",
       "    }\n",
       "</style>\n",
       "<table border=\"1\" class=\"dataframe\">\n",
       "  <thead>\n",
       "    <tr style=\"text-align: right;\">\n",
       "      <th></th>\n",
       "      <th>Type</th>\n",
       "      <th>Date</th>\n",
       "      <th>Polarity</th>\n",
       "    </tr>\n",
       "  </thead>\n",
       "  <tbody>\n",
       "    <tr>\n",
       "      <th>0</th>\n",
       "      <td>apple</td>\n",
       "      <td>2016-01-01</td>\n",
       "      <td>0.130946</td>\n",
       "    </tr>\n",
       "    <tr>\n",
       "      <th>1</th>\n",
       "      <td>apple</td>\n",
       "      <td>2017-01-01</td>\n",
       "      <td>0.190548</td>\n",
       "    </tr>\n",
       "    <tr>\n",
       "      <th>2</th>\n",
       "      <td>apple</td>\n",
       "      <td>2019-01-01</td>\n",
       "      <td>0.175678</td>\n",
       "    </tr>\n",
       "    <tr>\n",
       "      <th>3</th>\n",
       "      <td>apple</td>\n",
       "      <td>2020-01-01</td>\n",
       "      <td>0.140745</td>\n",
       "    </tr>\n",
       "    <tr>\n",
       "      <th>4</th>\n",
       "      <td>apple</td>\n",
       "      <td>2016-01-02</td>\n",
       "      <td>0.101898</td>\n",
       "    </tr>\n",
       "    <tr>\n",
       "      <th>5</th>\n",
       "      <td>apple</td>\n",
       "      <td>2017-01-02</td>\n",
       "      <td>0.109650</td>\n",
       "    </tr>\n",
       "    <tr>\n",
       "      <th>6</th>\n",
       "      <td>apple</td>\n",
       "      <td>2018-01-02</td>\n",
       "      <td>0.159016</td>\n",
       "    </tr>\n",
       "    <tr>\n",
       "      <th>7</th>\n",
       "      <td>apple</td>\n",
       "      <td>2019-01-02</td>\n",
       "      <td>0.090886</td>\n",
       "    </tr>\n",
       "    <tr>\n",
       "      <th>8</th>\n",
       "      <td>apple</td>\n",
       "      <td>2020-01-02</td>\n",
       "      <td>0.131147</td>\n",
       "    </tr>\n",
       "    <tr>\n",
       "      <th>9</th>\n",
       "      <td>apple</td>\n",
       "      <td>2016-01-03</td>\n",
       "      <td>0.147012</td>\n",
       "    </tr>\n",
       "  </tbody>\n",
       "</table>\n",
       "</div>"
      ],
      "text/plain": [
       "    Type       Date  Polarity\n",
       "0  apple 2016-01-01  0.130946\n",
       "1  apple 2017-01-01  0.190548\n",
       "2  apple 2019-01-01  0.175678\n",
       "3  apple 2020-01-01  0.140745\n",
       "4  apple 2016-01-02  0.101898\n",
       "5  apple 2017-01-02  0.109650\n",
       "6  apple 2018-01-02  0.159016\n",
       "7  apple 2019-01-02  0.090886\n",
       "8  apple 2020-01-02  0.131147\n",
       "9  apple 2016-01-03  0.147012"
      ]
     },
     "execution_count": 287,
     "metadata": {},
     "output_type": "execute_result"
    }
   ],
   "source": [
    "df_aapl = pd.read_csv(\"sentiment_appl.csv\")\n",
    "df_aapl.info()\n",
    "df_aapl['Date'] = pd.to_datetime(df_aapl['Date'])\n",
    "df_aapl.info()\n",
    "df_aapl.head(10)"
   ]
  },
  {
   "cell_type": "markdown",
   "metadata": {},
   "source": [
    "#  Update  Apple stock data "
   ]
  },
  {
   "cell_type": "code",
   "execution_count": 288,
   "metadata": {},
   "outputs": [
    {
     "name": "stdout",
     "output_type": "stream",
     "text": [
      "<class 'pandas.core.frame.DataFrame'>\n",
      "RangeIndex: 9916 entries, 0 to 9915\n",
      "Data columns (total 7 columns):\n",
      " #   Column     Non-Null Count  Dtype  \n",
      "---  ------     --------------  -----  \n",
      " 0   Date       9916 non-null   object \n",
      " 1   Open       9915 non-null   float64\n",
      " 2   High       9915 non-null   float64\n",
      " 3   Low        9915 non-null   float64\n",
      " 4   Close      9915 non-null   float64\n",
      " 5   Adj Close  9915 non-null   float64\n",
      " 6   Volume     9915 non-null   float64\n",
      "dtypes: float64(6), object(1)\n",
      "memory usage: 542.4+ KB\n",
      "<class 'pandas.core.frame.DataFrame'>\n",
      "RangeIndex: 9916 entries, 0 to 9915\n",
      "Data columns (total 7 columns):\n",
      " #   Column     Non-Null Count  Dtype         \n",
      "---  ------     --------------  -----         \n",
      " 0   Date       9916 non-null   datetime64[ns]\n",
      " 1   Open       9915 non-null   float64       \n",
      " 2   High       9915 non-null   float64       \n",
      " 3   Low        9915 non-null   float64       \n",
      " 4   Close      9915 non-null   float64       \n",
      " 5   Adj Close  9915 non-null   float64       \n",
      " 6   Volume     9915 non-null   float64       \n",
      "dtypes: datetime64[ns](1), float64(6)\n",
      "memory usage: 542.4 KB\n"
     ]
    }
   ],
   "source": [
    "aapl = pd.read_csv(\"AAPL.csv\")\n",
    "aapl.info()\n",
    "#change date type to  datetime64[ns]\n",
    "aapl['Date']=pd.to_datetime(aapl['Date'])\n",
    "aapl.info()"
   ]
  },
  {
   "cell_type": "code",
   "execution_count": 289,
   "metadata": {},
   "outputs": [
    {
     "name": "stdout",
     "output_type": "stream",
     "text": [
      "           Date        Open        High         Low       Close   Adj Close  \\\n",
      "1057 2020-03-17  247.509995  257.609985  238.399994  252.860001  252.860001   \n",
      "1058 2020-03-18  239.770004  250.000000  237.119995  246.669998  246.669998   \n",
      "1059 2020-03-19  247.389999  252.839996  242.610001  244.779999  244.779999   \n",
      "1060 2020-03-20  247.179993  251.830002  228.000000  229.240005  229.240005   \n",
      "1061 2020-03-23  228.080002  228.500000  212.610001  224.369995  224.369995   \n",
      "1062 2020-03-24  236.360001  247.690002  234.300003  246.880005  246.880005   \n",
      "1063 2020-03-25  250.750000  258.250000  244.300003  245.520004  245.520004   \n",
      "1064 2020-03-26  246.520004  258.679993  246.360001  258.440002  258.440002   \n",
      "1065 2020-03-27  252.750000  255.869995  247.050003  247.740005  247.740005   \n",
      "1066 2020-03-30  250.740005  255.520004  249.399994  254.809998  254.809998   \n",
      "\n",
      "           Volume   Type  Polarity  \n",
      "1057   81014000.0  apple  0.093725  \n",
      "1058   75058400.0  apple  0.116953  \n",
      "1059   67964300.0  apple  0.164178  \n",
      "1060  100423300.0  apple  0.106142  \n",
      "1061   84188200.0  apple  0.134402  \n",
      "1062   71882800.0  apple  0.113539  \n",
      "1063   75900500.0  apple  0.206874  \n",
      "1064   63021800.0  apple  0.203935  \n",
      "1065   51054200.0  apple  0.132732  \n",
      "1066   41994100.0  apple  0.082504  \n"
     ]
    }
   ],
   "source": [
    "#sentiment scores :start date is 2016-1-1, end date is 2020-3-30\n",
    "#stock data : start date is 1986-03-13, end date is 2020-4-9\n",
    "mask = (aapl['Date'] > '2016-1-1') & (aapl['Date'] <= '2020-3-30')\n",
    "aapl = aapl.loc[mask]\n",
    "aapl.head(10)\n",
    "#no stock data in 1-1 1-2 1-3,etc, so keep all left dataframe when merge.  \n",
    "aapl = aapl.merge(df_aapl, how='left', on='Date')  # Add Wiki_views column from Wikipedia API\n",
    "aapl.head(10)\n",
    "print(aapl[-10:])\n",
    "\n",
    "#replace NaN value with 0\n",
    "aapl['Polarity'] = aapl['Polarity'].fillna(0)\n",
    "#save as new csv\n",
    "aapl.to_csv ('new_aapl.csv', header=True)"
   ]
  },
  {
   "cell_type": "markdown",
   "metadata": {},
   "source": [
    "# update msft stock data"
   ]
  },
  {
   "cell_type": "code",
   "execution_count": 290,
   "metadata": {},
   "outputs": [],
   "source": [
    "df_msft = pd.read_csv(\"sentiment_msft.csv\")\n",
    "df_msft['Date'] = pd.to_datetime(df_msft['Date'])\n",
    "\n",
    "\n",
    "msft = pd.read_csv(\"MSFT.csv\")\n",
    "msft['Date']=pd.to_datetime(msft['Date'])\n",
    "\n",
    "\n",
    "mask = (msft['Date'] > '2016-1-1') & (msft['Date'] <= '2020-3-30')\n",
    "msft = msft.loc[mask] \n",
    "msft = msft.merge(df_msft, how='left', on='Date') \n",
    "#replace NaN value with 0\n",
    "msft['Polarity'] = msft['Polarity'].fillna(0)\n",
    "msft.to_csv ('new_msft.csv', header=True)"
   ]
  },
  {
   "cell_type": "code",
   "execution_count": null,
   "metadata": {},
   "outputs": [],
   "source": []
  }
 ],
 "metadata": {
  "kernelspec": {
   "display_name": "Python 3",
   "language": "python",
   "name": "python3"
  },
  "language_info": {
   "codemirror_mode": {
    "name": "ipython",
    "version": 3
   },
   "file_extension": ".py",
   "mimetype": "text/x-python",
   "name": "python",
   "nbconvert_exporter": "python",
   "pygments_lexer": "ipython3",
   "version": "3.6.8"
  }
 },
 "nbformat": 4,
 "nbformat_minor": 2
}
