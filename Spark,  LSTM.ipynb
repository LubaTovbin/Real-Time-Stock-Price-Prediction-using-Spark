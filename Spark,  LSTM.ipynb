{
 "cells": [
  {
   "cell_type": "code",
   "execution_count": 52,
   "metadata": {},
   "outputs": [
    {
     "name": "stdout",
     "output_type": "stream",
     "text": [
      "+----------+--------+--------+--------+--------+---------+----------+----+-----+---+\n",
      "|      date|    Open|    High|     Low|   Close|Adj Close|    Volume|year|month|day|\n",
      "+----------+--------+--------+--------+--------+---------+----------+----+-----+---+\n",
      "|1986-03-13|0.088542|0.101563|0.088542|0.097222| 0.062378|1031788800|1986|   03| 13|\n",
      "|1986-03-14|0.097222|0.102431|0.097222|0.100694| 0.064606| 308160000|1986|   03| 14|\n",
      "|1986-03-17|0.100694|0.103299|0.100694|0.102431|  0.06572| 133171200|1986|   03| 17|\n",
      "|1986-03-18|0.102431|0.103299|0.098958|0.099826| 0.064049|  67766400|1986|   03| 18|\n",
      "|1986-03-19|0.099826|0.100694|0.097222| 0.09809| 0.062935|  47894400|1986|   03| 19|\n",
      "|1986-03-20| 0.09809| 0.09809|0.094618|0.095486| 0.061264|  58435200|1986|   03| 20|\n",
      "|1986-03-21|0.095486|0.097222|0.091146|0.092882| 0.059594|  59990400|1986|   03| 21|\n",
      "|1986-03-24|0.092882|0.092882| 0.08941|0.090278| 0.057923|  65289600|1986|   03| 24|\n",
      "|1986-03-25|0.090278|0.092014| 0.08941|0.092014| 0.059037|  32083200|1986|   03| 25|\n",
      "|1986-03-26|0.092014|0.095486|0.091146|0.094618| 0.060707|  22752000|1986|   03| 26|\n",
      "+----------+--------+--------+--------+--------+---------+----------+----+-----+---+\n",
      "only showing top 10 rows\n",
      "\n"
     ]
    }
   ],
   "source": [
    "import findspark\n",
    "findspark.init()\n",
    "\n",
    "import pyspark\n",
    "import random\n",
    "\n",
    "import math\n",
    "import pandas_datareader as web\n",
    "import numpy as np\n",
    "import pandas as pd\n",
    "from sklearn.preprocessing import MinMaxScaler\n",
    "from keras.models import Sequential\n",
    "from keras.layers import Dense, LSTM\n",
    "import matplotlib.pyplot as plt\n",
    "\n",
    "fileName = \"/Users/lingzhuo/Desktop/256/MSFT.csv\"\n",
    "\n",
    "#initial a spark cluster\n",
    "spark = pyspark.sql.SparkSession.builder.appName(\"StockPrice\").config(\"spark.some.config.option\", \"some-value\").getOrCreate()\n",
    "\n",
    "#Use spark.read() to access this. Loads a CSV file and returns the result as a DataFrame.\n",
    "df = spark.read.csv(fileName, header=True, inferSchema=True)\n",
    "\n",
    "\n",
    "import pyspark.sql.functions as f\n",
    "df = df.withColumn('date', f.to_date('Date'))\n",
    "date_breakdown = ['year', 'month', 'day']\n",
    "for i in enumerate(date_breakdown):\n",
    "    index = i[0]\n",
    "    name = i[1]\n",
    "    df = df.withColumn(name, f.split('date', '-')[index])\n",
    "df.show(n=10)\n"
   ]
  },
  {
   "cell_type": "code",
   "execution_count": 53,
   "metadata": {},
   "outputs": [
    {
     "name": "stdout",
     "output_type": "stream",
     "text": [
      "+----------+--------+--------+--------+--------+---------+----------+----+-----+---+\n",
      "|      date|    Open|    High|     Low|   Close|Adj Close|    Volume|year|month|day|\n",
      "+----------+--------+--------+--------+--------+---------+----------+----+-----+---+\n",
      "|1986-03-13|0.088542|0.101563|0.088542|0.097222| 0.062378|1031788800|1986|   03| 13|\n",
      "|1986-03-14|0.097222|0.102431|0.097222|0.100694| 0.064606| 308160000|1986|   03| 14|\n",
      "|1986-03-17|0.100694|0.103299|0.100694|0.102431|  0.06572| 133171200|1986|   03| 17|\n",
      "|1986-03-18|0.102431|0.103299|0.098958|0.099826| 0.064049|  67766400|1986|   03| 18|\n",
      "|1986-03-19|0.099826|0.100694|0.097222| 0.09809| 0.062935|  47894400|1986|   03| 19|\n",
      "|1986-03-20| 0.09809| 0.09809|0.094618|0.095486| 0.061264|  58435200|1986|   03| 20|\n",
      "|1986-03-21|0.095486|0.097222|0.091146|0.092882| 0.059594|  59990400|1986|   03| 21|\n",
      "|1986-03-24|0.092882|0.092882| 0.08941|0.090278| 0.057923|  65289600|1986|   03| 24|\n",
      "|1986-03-25|0.090278|0.092014| 0.08941|0.092014| 0.059037|  32083200|1986|   03| 25|\n",
      "|1986-03-26|0.092014|0.095486|0.091146|0.094618| 0.060707|  22752000|1986|   03| 26|\n",
      "+----------+--------+--------+--------+--------+---------+----------+----+-----+---+\n",
      "only showing top 10 rows\n",
      "\n"
     ]
    }
   ],
   "source": [
    "date_breakdown = ['year', 'month', 'day']\n",
    "for i in enumerate(date_breakdown):\n",
    "    index = i[0]\n",
    "    name = i[1]\n",
    "    df = df.withColumn(name, f.split('date', '-')[index])\n",
    "df.show(n=10)"
   ]
  },
  {
   "cell_type": "code",
   "execution_count": 54,
   "metadata": {},
   "outputs": [
    {
     "data": {
      "text/html": [
       "<div>\n",
       "<style scoped>\n",
       "    .dataframe tbody tr th:only-of-type {\n",
       "        vertical-align: middle;\n",
       "    }\n",
       "\n",
       "    .dataframe tbody tr th {\n",
       "        vertical-align: top;\n",
       "    }\n",
       "\n",
       "    .dataframe thead th {\n",
       "        text-align: right;\n",
       "    }\n",
       "</style>\n",
       "<table border=\"1\" class=\"dataframe\">\n",
       "  <thead>\n",
       "    <tr style=\"text-align: right;\">\n",
       "      <th></th>\n",
       "      <th>Close</th>\n",
       "    </tr>\n",
       "  </thead>\n",
       "  <tbody>\n",
       "    <tr>\n",
       "      <th>0</th>\n",
       "      <td>0.097222</td>\n",
       "    </tr>\n",
       "    <tr>\n",
       "      <th>1</th>\n",
       "      <td>0.100694</td>\n",
       "    </tr>\n",
       "    <tr>\n",
       "      <th>2</th>\n",
       "      <td>0.102431</td>\n",
       "    </tr>\n",
       "    <tr>\n",
       "      <th>3</th>\n",
       "      <td>0.099826</td>\n",
       "    </tr>\n",
       "    <tr>\n",
       "      <th>4</th>\n",
       "      <td>0.098090</td>\n",
       "    </tr>\n",
       "    <tr>\n",
       "      <th>5</th>\n",
       "      <td>0.095486</td>\n",
       "    </tr>\n",
       "    <tr>\n",
       "      <th>6</th>\n",
       "      <td>0.092882</td>\n",
       "    </tr>\n",
       "    <tr>\n",
       "      <th>7</th>\n",
       "      <td>0.090278</td>\n",
       "    </tr>\n",
       "    <tr>\n",
       "      <th>8</th>\n",
       "      <td>0.092014</td>\n",
       "    </tr>\n",
       "    <tr>\n",
       "      <th>9</th>\n",
       "      <td>0.094618</td>\n",
       "    </tr>\n",
       "  </tbody>\n",
       "</table>\n",
       "</div>"
      ],
      "text/plain": [
       "      Close\n",
       "0  0.097222\n",
       "1  0.100694\n",
       "2  0.102431\n",
       "3  0.099826\n",
       "4  0.098090\n",
       "5  0.095486\n",
       "6  0.092882\n",
       "7  0.090278\n",
       "8  0.092014\n",
       "9  0.094618"
      ]
     },
     "execution_count": 54,
     "metadata": {},
     "output_type": "execute_result"
    }
   ],
   "source": [
    "df_plot = df.select('Close').toPandas()\n",
    "\n",
    "df_plot.head(10)\n"
   ]
  },
  {
   "cell_type": "code",
   "execution_count": 55,
   "metadata": {},
   "outputs": [
    {
     "data": {
      "image/png": "[encoded data removed]",
      "text/plain": [
       "<Figure size 1152x576 with 1 Axes>"
      ]
     },
     "metadata": {},
     "output_type": "display_data"
    }
   ],
   "source": [
    "plt.figure(figsize=(16,8))\n",
    "plt.title('Close Price History')\n",
    "plt.plot(df_plot[\"Close\"])\n",
    "plt.xlabel('Date',fontsize=18)\n",
    "plt.ylabel('Close Price USD ($)',fontsize=18)\n",
    "plt.show()"
   ]
  },
  {
   "cell_type": "markdown",
   "metadata": {},
   "source": [
    "# prepocessing data"
   ]
  },
  {
   "cell_type": "code",
   "execution_count": 56,
   "metadata": {},
   "outputs": [],
   "source": [
    "#Create a new dataframe with only the 'Close' column, convert it to np array\n",
    "#dataset = np.array(df.select('Close').collect())\n",
    "data = df.select('Close').toPandas()\n",
    "#Converting the dataframe to a numpy array\n",
    "dataset = data.values\n",
    "\n",
    "\n",
    "#Get /Compute the number of rows to train the model on\n",
    "training_data_len = math.ceil( len(dataset) *.8) \n",
    "\n",
    "#Scale the all of the data to be values between 0 and 1 \n",
    "scaler = MinMaxScaler(feature_range=(0, 1)) \n",
    "scaled_data = scaler.fit_transform(dataset)\n",
    "\n",
    "#Create the scaled training data set \n",
    "train_data = scaled_data[0:training_data_len  , : ]\n",
    "#Split the data into x_train and y_train data sets\n",
    "#[0,59] -> 60 [1,60]->61\n",
    "x_train=[]\n",
    "y_train = []\n",
    "for i in range(60,len(train_data)):\n",
    "    x_train.append(train_data[i-60:i,0])\n",
    "    y_train.append(train_data[i,0])\n",
    "    \n",
    "#Convert x_train and y_train to numpy arrays\n",
    "x_train, y_train = np.array(x_train), np.array(y_train)"
   ]
  },
  {
   "cell_type": "markdown",
   "metadata": {},
   "source": [
    "# LSTM"
   ]
  },
  {
   "cell_type": "code",
   "execution_count": 57,
   "metadata": {},
   "outputs": [
    {
     "name": "stdout",
     "output_type": "stream",
     "text": [
      "Epoch 1/1\n",
      "6812/6812 [==============================] - 284s 42ms/step - loss: 8.2775e-05\n"
     ]
    }
   ],
   "source": [
    "#Reshape the data into the shape accepted by the LSTM:3D\n",
    "x_train = np.reshape(x_train, (x_train.shape[0],x_train.shape[1],1))\n",
    "\n",
    "#Build the LSTM network model\n",
    "#two LSTM layers with 50 neurons and two Dense layers, one with 25 neurons and the other with 1 neuron.\n",
    "model = Sequential()\n",
    "model.add(LSTM(units=50, return_sequences=True,input_shape=(x_train.shape[1],1)))\n",
    "model.add(LSTM(units=50, return_sequences=False))\n",
    "model.add(Dense(units=25))\n",
    "model.add(Dense(units=1))\n",
    "\n",
    "#Compile the model\n",
    "model.compile(optimizer='adam', loss='mean_squared_error')\n",
    "\n",
    "#Train the model\n",
    "model.fit(x_train, y_train, batch_size=1, epochs=1)\n",
    "\n",
    "\n",
    "#Test data set\n",
    "test_data = scaled_data[training_data_len - 60: , : ]\n",
    "#Create the x_test and y_test data sets\n",
    "x_test = []\n",
    "y_test =  dataset[training_data_len : , : ] #Get all of the rows from index 1603 to the rest and all of the columns (in this case it's only column 'Close'), so 2003 - 1603 = 400 rows of data\n",
    "for i in range(60,len(test_data)):\n",
    "    x_test.append(test_data[i-60:i,0])\n",
    "     \n",
    "#Convert x_test to a numpy array \n",
    "x_test = np.array(x_test)\n",
    "\n",
    "#Reshape the data into the shape accepted by the LSTM:3D\n",
    "x_test = np.reshape(x_test, (x_test.shape[0],x_test.shape[1],1))\n",
    "\n",
    "\n",
    "#Getting the models predicted price values\n",
    "predictions = model.predict(x_test) \n",
    "predictions = scaler.inverse_transform(predictions)#Undo scaling\n",
    "\n",
    "from pyspark.ml.evaluation import RegressionEvaluator\n",
    "df = pd.DataFrame(y_test, columns=['Close'])\n",
    "df['Predict'] = predictions\n",
    "df_predictions = spark.createDataFrame(df)\n",
    "rmse_evaluator = RegressionEvaluator(labelCol=\"Close\", predictionCol=\"Predict\", metricName=\"rmse\")\n",
    "mse_evaluator = RegressionEvaluator(labelCol=\"Close\", predictionCol=\"Predict\", metricName=\"mse\")\n",
    "mae_evaluator = RegressionEvaluator(labelCol=\"Close\", predictionCol=\"Predict\", metricName=\"mae\")\n",
    "\n",
    "#Calculate/Get the value of RMSE\n",
    "#rmse=np.sqrt(np.mean(((predictions- y_test)**2)))\n",
    "#rmse"
   ]
  },
  {
   "cell_type": "markdown",
   "metadata": {},
   "source": [
    "# result"
   ]
  },
  {
   "cell_type": "code",
   "execution_count": 58,
   "metadata": {},
   "outputs": [
    {
     "name": "stderr",
     "output_type": "stream",
     "text": [
      "/anaconda3/lib/python3.6/site-packages/ipykernel_launcher.py:6: SettingWithCopyWarning: \n",
      "A value is trying to be set on a copy of a slice from a DataFrame.\n",
      "Try using .loc[row_indexer,col_indexer] = value instead\n",
      "\n",
      "See the caveats in the documentation: https://pandas.pydata.org/pandas-docs/stable/user_guide/indexing.html#returning-a-view-versus-a-copy\n",
      "  \n"
     ]
    },
    {
     "data": {
      "image/png": "[encoded data removed]",
      "text/plain": [
       "<Figure size 1152x576 with 1 Axes>"
      ]
     },
     "metadata": {},
     "output_type": "display_data"
    }
   ],
   "source": [
    "#Plot/Create the data for the graph\n",
    "#train = data[:training_data_len]\n",
    "#valid = data[training_data_len:]\n",
    "train = data.iloc[:training_data_len]\n",
    "valid = data.iloc[training_data_len:]\n",
    "valid['Predictions'] = predictions\n",
    "\n",
    "#Visualize the data\n",
    "plt.figure(figsize=(16,8))\n",
    "plt.title('Model')\n",
    "plt.xlabel('Date', fontsize=18)\n",
    "plt.ylabel('Close Price USD ($)', fontsize=18)\n",
    "plt.plot(train['Close'])\n",
    "plt.plot(valid[['Close', 'Predictions']])\n",
    "plt.legend(['Train', 'Val', 'Predictions'], loc='lower right')\n",
    "plt.show()"
   ]
  },
  {
   "cell_type": "code",
   "execution_count": 59,
   "metadata": {},
   "outputs": [
    {
     "data": {
      "text/html": [
       "<div>\n",
       "<style scoped>\n",
       "    .dataframe tbody tr th:only-of-type {\n",
       "        vertical-align: middle;\n",
       "    }\n",
       "\n",
       "    .dataframe tbody tr th {\n",
       "        vertical-align: top;\n",
       "    }\n",
       "\n",
       "    .dataframe thead th {\n",
       "        text-align: right;\n",
       "    }\n",
       "</style>\n",
       "<table border=\"1\" class=\"dataframe\">\n",
       "  <thead>\n",
       "    <tr style=\"text-align: right;\">\n",
       "      <th></th>\n",
       "      <th>Close</th>\n",
       "      <th>Predictions</th>\n",
       "    </tr>\n",
       "  </thead>\n",
       "  <tbody>\n",
       "    <tr>\n",
       "      <th>6872</th>\n",
       "      <td>34.400002</td>\n",
       "      <td>34.370663</td>\n",
       "    </tr>\n",
       "    <tr>\n",
       "      <th>6873</th>\n",
       "      <td>35.000000</td>\n",
       "      <td>34.141441</td>\n",
       "    </tr>\n",
       "    <tr>\n",
       "      <th>6874</th>\n",
       "      <td>34.980000</td>\n",
       "      <td>34.215687</td>\n",
       "    </tr>\n",
       "    <tr>\n",
       "      <th>6875</th>\n",
       "      <td>34.590000</td>\n",
       "      <td>34.325020</td>\n",
       "    </tr>\n",
       "    <tr>\n",
       "      <th>6876</th>\n",
       "      <td>33.490002</td>\n",
       "      <td>34.257652</td>\n",
       "    </tr>\n",
       "    <tr>\n",
       "      <th>...</th>\n",
       "      <td>...</td>\n",
       "      <td>...</td>\n",
       "    </tr>\n",
       "    <tr>\n",
       "      <th>8585</th>\n",
       "      <td>153.830002</td>\n",
       "      <td>142.926544</td>\n",
       "    </tr>\n",
       "    <tr>\n",
       "      <th>8586</th>\n",
       "      <td>165.270004</td>\n",
       "      <td>142.136307</td>\n",
       "    </tr>\n",
       "    <tr>\n",
       "      <th>8587</th>\n",
       "      <td>163.490005</td>\n",
       "      <td>147.107193</td>\n",
       "    </tr>\n",
       "    <tr>\n",
       "      <th>8588</th>\n",
       "      <td>165.130005</td>\n",
       "      <td>149.838669</td>\n",
       "    </tr>\n",
       "    <tr>\n",
       "      <th>8589</th>\n",
       "      <td>165.139999</td>\n",
       "      <td>151.616837</td>\n",
       "    </tr>\n",
       "  </tbody>\n",
       "</table>\n",
       "<p>1718 rows × 2 columns</p>\n",
       "</div>"
      ],
      "text/plain": [
       "           Close  Predictions\n",
       "6872   34.400002    34.370663\n",
       "6873   35.000000    34.141441\n",
       "6874   34.980000    34.215687\n",
       "6875   34.590000    34.325020\n",
       "6876   33.490002    34.257652\n",
       "...          ...          ...\n",
       "8585  153.830002   142.926544\n",
       "8586  165.270004   142.136307\n",
       "8587  163.490005   147.107193\n",
       "8588  165.130005   149.838669\n",
       "8589  165.139999   151.616837\n",
       "\n",
       "[1718 rows x 2 columns]"
      ]
     },
     "execution_count": 59,
     "metadata": {},
     "output_type": "execute_result"
    }
   ],
   "source": [
    "#Show the valid and predicted prices\n",
    "valid"
   ]
  },
  {
   "cell_type": "code",
   "execution_count": 60,
   "metadata": {},
   "outputs": [
    {
     "name": "stdout",
     "output_type": "stream",
     "text": [
      "[[152.19604]]\n"
     ]
    }
   ],
   "source": [
    "#predict next day\n",
    "#Get the quote\n",
    "#msft_quote = pd.read_csv(\"MSFT.csv\")\n",
    "\n",
    "fileName = \"/Users/lingzhuo/Desktop/256/MSFT.csv\"\n",
    "\n",
    "#spark = pyspark.sql.SparkSession.builder.appName(\"StockPrice\").config(\"spark.some.config.option\", \"some-value\").getOrCreate()\n",
    "\n",
    "msft_quote = spark.read.csv(fileName, header=True, inferSchema=True)\n",
    "\n",
    "#Create a new dataframe\n",
    "new_df = msft_quote.select('Close').toPandas()\n",
    "\n",
    "#Get teh last 60 day closing price, Scale the data to be values between 0 and 1\n",
    "last_60_days = new_df[-60:].values\n",
    "last_60_days_scaled = scaler.transform(last_60_days)\n",
    "\n",
    "#create an empty list and append the past 60 day price to it, \n",
    "#and then convert it to a numpy array and reshape it so that I can input the data into the model.\n",
    "X_test = []\n",
    "X_test.append(last_60_days_scaled)\n",
    "X_test = np.array(X_test)\n",
    "X_test = np.reshape(X_test, (X_test.shape[0], X_test.shape[1], 1))\n",
    "\n",
    "\n",
    "#Get the predicted scaled price\n",
    "pred_price = model.predict(X_test)\n",
    "#undo the scaling \n",
    "pred_price = scaler.inverse_transform(pred_price)\n",
    "\n",
    "\n",
    "#next day\n",
    "print(pred_price)"
   ]
  }
 ],
 "metadata": {
  "kernelspec": {
   "display_name": "Python 3",
   "language": "python",
   "name": "python3"
  },
  "language_info": {
   "codemirror_mode": {
    "name": "ipython",
    "version": 3
   },
   "file_extension": ".py",
   "mimetype": "text/x-python",
   "name": "python",
   "nbconvert_exporter": "python",
   "pygments_lexer": "ipython3",
   "version": "3.6.8"
  }
 },
 "nbformat": 4,
 "nbformat_minor": 2
}
